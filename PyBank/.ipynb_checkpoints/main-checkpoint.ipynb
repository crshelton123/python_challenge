{
 "cells": [
  {
   "cell_type": "code",
   "execution_count": 1,
   "id": "a42bbd5c-8f6e-4e9c-8fce-e8b8d1b9b323",
   "metadata": {},
   "outputs": [],
   "source": [
    "#Import Libraries\n",
    "from pathlib import Path\n",
    "import csv"
   ]
  },
  {
   "cell_type": "code",
   "execution_count": 2,
   "id": "bd01b7fa-ef23-48c1-9f04-4a9c3d043685",
   "metadata": {},
   "outputs": [],
   "source": [
    "#Set Path to file\n",
    "csvpath = Path(\"budget_data.csv\")"
   ]
  },
  {
   "cell_type": "code",
   "execution_count": 3,
   "id": "41e1bf0a-20c7-495d-aca2-91bb50bc4928",
   "metadata": {},
   "outputs": [],
   "source": [
    "#Initialize variables\n",
    "months = 0\n",
    "total = 0\n",
    "greatest_inc = 0\n",
    "greatest_inc_date = \"\"\n",
    "greatest_dec = 0\n",
    "greatest_dec_date = \"\"\n",
    "change_list = []\n",
    "change_month = []"
   ]
  },
  {
   "cell_type": "code",
   "execution_count": 4,
   "id": "ff764aa6-8683-4d0a-83e5-edc8887b6326",
   "metadata": {},
   "outputs": [
    {
     "name": "stdout",
     "output_type": "stream",
     "text": [
      "86\n",
      "38382578\n"
     ]
    }
   ],
   "source": [
    "#Open file\n",
    "with open(csvpath, \"r\") as csvfile:\n",
    "    data = csv.reader(csvfile, delimiter = ',')\n",
    "    #Skip Header\n",
    "    header = next(data)\n",
    "    #Skip first row of data \n",
    "    first_row = next(data)\n",
    "    #Capture the first row's PnL\n",
    "    prev_net = int(first_row[1])\n",
    "    #Capture the first row's month\n",
    "    months +=1\n",
    "    #Capture total PnL\n",
    "    total += prev_net \n",
    "    #calculate the months and daily change\n",
    "    for row in data:\n",
    "        pnl = int(row[1])\n",
    "        months += 1\n",
    "        total += pnl\n",
    "        net_change = pnl - prev_net\n",
    "        prev_net = pnl\n",
    "        change_list = change_list + [net_change]\n",
    "        change_month = row[0]\n",
    "        #Calculate Greatest Increase and Date\n",
    "        if net_change > greatest_inc:\n",
    "            greatest_inc = net_change\n",
    "            greatest_inc_date = change_month\n",
    "        #Calculate Greatest Decrease and Date\n",
    "        if net_change < greatest_dec:\n",
    "            greatest_dec = net_change\n",
    "            greatest_dec_date = change_month  \n",
    "    print(months)\n",
    "    print(total)"
   ]
  },
  {
   "cell_type": "code",
   "execution_count": 5,
   "id": "9da01ad3-b365-443e-900e-65b02cce6536",
   "metadata": {},
   "outputs": [
    {
     "name": "stdout",
     "output_type": "stream",
     "text": [
      "-2315.1176470588234\n"
     ]
    }
   ],
   "source": [
    "#Calculate the average change\n",
    "average = sum(change_list) / len(change_list)\n",
    "print(average)"
   ]
  },
  {
   "cell_type": "code",
   "execution_count": 6,
   "id": "8efb22f0-fa8b-4797-ba2a-8ccd7a8c5693",
   "metadata": {},
   "outputs": [
    {
     "name": "stdout",
     "output_type": "stream",
     "text": [
      "Total Months:86\n",
      "Net Profits: 38382578\n",
      "Average change:-2315.1176470588234\n",
      "Greatest Increase in Profits:1926159 in Feb-2012\n",
      "Greatest Decrease in Profits:-2196167 in Sep-2013\n"
     ]
    }
   ],
   "source": [
    "#Print Results to Terminal\n",
    "print(f\"Total Months:{months}\")\n",
    "print(f\"Net Profits: {total}\")\n",
    "print(f\"Average change:{average}\")\n",
    "print(f\"Greatest Increase in Profits:{greatest_inc} in {greatest_inc_date}\")\n",
    "print(f\"Greatest Decrease in Profits:{greatest_dec} in {greatest_dec_date}\")"
   ]
  },
  {
   "cell_type": "code",
   "execution_count": 7,
   "id": "279bbbea-17a5-4eb7-8c8c-9b118e6504e5",
   "metadata": {},
   "outputs": [],
   "source": [
    "#Write the Results to a Text File\n",
    "lines = [(f\"Total Months:{months}\"), (f\"Net Profits: {total}\"), (f\"Average change:{average}\"), (f\"Greatest Increase in Profits:{greatest_inc} in {greatest_inc_date}\"), (f\"Greatest Decrease in Profits:{greatest_dec} in {greatest_dec_date}\")]\n",
    "output_path = Path(\"output.txt\")\n",
    "with open(output_path, \"w\") as f:\n",
    "    for line in lines:\n",
    "        f.write(line)\n",
    "        f.write(\"\\n\")"
   ]
  },
  {
   "cell_type": "code",
   "execution_count": null,
   "id": "4026babf-bf1d-4773-81b9-3f61950af509",
   "metadata": {},
   "outputs": [],
   "source": []
  }
 ],
 "metadata": {
  "kernelspec": {
   "display_name": "dev",
   "language": "python",
   "name": "dev"
  },
  "language_info": {
   "codemirror_mode": {
    "name": "ipython",
    "version": 3
   },
   "file_extension": ".py",
   "mimetype": "text/x-python",
   "name": "python",
   "nbconvert_exporter": "python",
   "pygments_lexer": "ipython3",
   "version": "3.7.13"
  }
 },
 "nbformat": 4,
 "nbformat_minor": 5
}
